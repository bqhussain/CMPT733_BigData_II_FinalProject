{
 "cells": [
  {
   "cell_type": "code",
   "execution_count": 1,
   "metadata": {
    "id": "X6f-KTSQZUux"
   },
   "outputs": [],
   "source": [
    "# Importing libraries\n",
    "import numpy as np\n",
    "import pandas as pd\n",
    "from sklearn.preprocessing import OneHotEncoder\n",
    "from sklearn.preprocessing import StandardScaler"
   ]
  },
  {
   "cell_type": "code",
   "execution_count": 2,
   "metadata": {
    "id": "v66Q_t_UhJVW"
   },
   "outputs": [],
   "source": [
    "# Importing MicroBiologyEvents Table and dropping empty rows in ORG_NAME AND AB_NAME\n",
    "MBE_DF = pd.read_csv('MICROBIOLOGYEVENTS.csv', delimiter=',')\n",
    "MBE_DF.dropna(subset=['ORG_NAME','AB_NAME'], how='any', inplace=True)\n",
    "MBE_DF.drop_duplicates(inplace=True)"
   ]
  },
  {
   "cell_type": "code",
   "execution_count": 3,
   "metadata": {
    "id": "mpAY77MP07Ke"
   },
   "outputs": [],
   "source": [
    "# Dropping Inessential columns from the dataframe\n",
    "MBE_DF = MBE_DF.drop(['ROW_ID', 'DILUTION_TEXT','DILUTION_COMPARISON','DILUTION_VALUE','ORG_ITEMID','ISOLATE_NUM','AB_ITEMID', 'CHARTDATE','SPEC_ITEMID'],\n",
    "                     axis = 1)"
   ]
  },
  {
   "cell_type": "code",
   "execution_count": 4,
   "metadata": {
    "colab": {
     "base_uri": "https://localhost:8080/"
    },
    "id": "A-OM3DKLECxx",
    "outputId": "56365b9f-80c8-4fec-e311-00b6f5344d03"
   },
   "outputs": [],
   "source": [
    "# Switching Intermediate interpretation to Resistant\n",
    "MBE_DF = MBE_DF[MBE_DF.INTERPRETATION != 'P']\n",
    "MBE_DF.loc[MBE_DF.INTERPRETATION == 'I','INTERPRETATION'] = 'R'"
   ]
  },
  {
   "cell_type": "code",
   "execution_count": 5,
   "metadata": {
    "id": "vwDw3UQi5wDu"
   },
   "outputs": [],
   "source": [
    "#Importing Demographic table and dropping inessential columns from the dataframe\n",
    "DG_DF = pd.read_csv('DEMOGRAPHICS.csv', delimiter=',')\n",
    "DG_DF=DG_DF.drop(['dod', 'icustay_id', 'dischtime', 'los_hospital', 'ethnicity', 'hospital_expire_flag', 'hospstay_seq', 'first_hosp_stay', 'intime', 'outtime', 'los_icu', 'icustay_seq', 'first_icu_stay'], axis = 1)\n",
    "DG_DF.drop_duplicates(inplace=True)"
   ]
  },
  {
   "cell_type": "code",
   "execution_count": 6,
   "metadata": {
    "id": "nFgI-KiL9wpK"
   },
   "outputs": [],
   "source": [
    "# Cleaning age column, age 300 in the dataset  is originally equal to 90\n",
    "def clean_age(age):\n",
    "  if age == 300:\n",
    "    return 90\n",
    "  elif age > 300:\n",
    "    dif = age - 300\n",
    "    age = 90+dif\n",
    "    return age\n",
    "  elif age == 0:\n",
    "    return 54\n",
    "  return age\n",
    "DG_DF['admission_age'] = DG_DF['admission_age'].apply(clean_age)"
   ]
  },
  {
   "cell_type": "code",
   "execution_count": 7,
   "metadata": {},
   "outputs": [],
   "source": [
    "#Merging Demographics and MicroBiologyEvents table on SUBJECT_ID','HADM_ID\n",
    "merged_df = MBE_DF.merge(DG_DF,left_on=['SUBJECT_ID','HADM_ID'] ,right_on = ['subject_id','hadm_id']).drop_duplicates()\n",
    "merged_df= merged_df.drop(['subject_id','hadm_id'],axis=1)\n",
    "merged_df.dropna(inplace=True)"
   ]
  },
  {
   "cell_type": "code",
   "execution_count": 8,
   "metadata": {},
   "outputs": [],
   "source": [
    "#Reading Diagnoses table and dropping inessential columns\n",
    "D_ICD_DF = pd.read_csv('DIAGNOSES_ICD.csv', delimiter=',').dropna()\n",
    "D_ICD_DF = D_ICD_DF.drop(['ROW_ID', 'SEQ_NUM'], axis=1)"
   ]
  },
  {
   "cell_type": "code",
   "execution_count": 9,
   "metadata": {},
   "outputs": [],
   "source": [
    "#Dropping all the ICD9_CODES which are starting with'E'\n",
    "test_DF = D_ICD_DF[~D_ICD_DF['ICD9_CODE'].str.startswith('E')]"
   ]
  },
  {
   "cell_type": "code",
   "execution_count": 10,
   "metadata": {},
   "outputs": [],
   "source": [
    "# Taking first three digits of the ICD9 Code and replacing the code with Diagnoses string\n",
    "def icd_codes(code):\n",
    "    if 'V' in code:\n",
    "        code = int(code[1:3])\n",
    "        if code >= 1  and code <= 91:\n",
    "            return 'Supplementary Classification Of Factors Influencing Health Status And Contact With Health Services'\n",
    "    else:    \n",
    "        code = int(code[0:3]) \n",
    "        if code >= 1 and code <= 139:\n",
    "            return 'Infectious And Parasitic Diseases'\n",
    "        elif code >= 140 and code <= 239:\n",
    "            return 'Neoplasms'\n",
    "        elif code >= 240 and code <= 279:\n",
    "            return 'Endocrine, Nutritional And Metabolic Diseases, And Immunity Disorders'\n",
    "        elif code >= 280 and code <= 289:\n",
    "            return 'Diseases Of The Blood And Blood-Forming Organs'\n",
    "        elif code == 290 and code <= 319:\n",
    "            return 'Mental Disorders'\n",
    "        elif code >= 320 and code <= 389:\n",
    "            return 'Diseases Of The Nervous System And Sense Organs'\n",
    "        elif code >= 390 and code <= 459:\n",
    "            return 'Diseases Of The Circulatory System'\n",
    "        elif code >= 460 and code <= 519:\n",
    "            return 'Diseases Of The Respiratory System'\n",
    "        elif code >= 520 and code <= 579:\n",
    "            return 'Diseases Of The Digestive System'\n",
    "        elif code >= 580 and code <= 629:\n",
    "            return 'Diseases Of The Genitourinary System'\n",
    "        elif code >= 630 and code <= 679:\n",
    "            return 'Complications Of Pregnancy, Childbirth, And The Puerperium'\n",
    "        elif code >= 680 and code <= 709:\n",
    "            return 'Diseases Of The Skin And Subcutaneous Tissue'\n",
    "        elif code >= 710 and code <= 739:\n",
    "            return 'Diseases Of The Musculoskeletal System And Connective Tissue'\n",
    "        elif code >= 740 and code <= 759:\n",
    "            return 'Congenital Anomalies'\n",
    "        elif code >= 760 and code <= 779:\n",
    "            return 'Certain Conditions Originating In The Perinatal Period'\n",
    "        elif code >= 780 and code <= 799:\n",
    "            return 'Symptoms, Signs, And Ill-Defined Conditions'\n",
    "        elif code >= 800 and code <= 999:\n",
    "            return 'Injury And Poisoning'\n",
    "    return '0'"
   ]
  },
  {
   "cell_type": "code",
   "execution_count": 11,
   "metadata": {},
   "outputs": [
    {
     "name": "stderr",
     "output_type": "stream",
     "text": [
      "<ipython-input-11-94091ad45610>:2: SettingWithCopyWarning: \n",
      "A value is trying to be set on a copy of a slice from a DataFrame.\n",
      "Try using .loc[row_indexer,col_indexer] = value instead\n",
      "\n",
      "See the caveats in the documentation: https://pandas.pydata.org/pandas-docs/stable/user_guide/indexing.html#returning-a-view-versus-a-copy\n",
      "  test_DF['ICD9_CODE'] = test_DF['ICD9_CODE'].apply(icd_codes)\n"
     ]
    }
   ],
   "source": [
    "#Applying the function to the dataframe\n",
    "test_DF['ICD9_CODE'] = test_DF['ICD9_CODE'].apply(icd_codes)"
   ]
  },
  {
   "cell_type": "code",
   "execution_count": 14,
   "metadata": {},
   "outputs": [],
   "source": [
    "#Merging Diagnoses dataframe with Demographics and MicroBiologyEvents\n",
    "diag_df = merged_df.merge(new_df,on=['SUBJECT_ID','HADM_ID']).drop_duplicates().dropna()"
   ]
  },
  {
   "cell_type": "code",
   "execution_count": 16,
   "metadata": {
    "colab": {
     "base_uri": "https://localhost:8080/",
     "height": 1000
    },
    "id": "Ln0vWnhR1nUZ",
    "outputId": "74d8912d-3ca6-41ba-aa9b-65ca871d0cce"
   },
   "outputs": [],
   "source": [
    "#Calculating collection_interval in days\n",
    "diag_df['admittime'] = pd.to_datetime(diag_df['admittime'])\n",
    "diag_df['CHARTTIME'] = pd.to_datetime(diag_df['CHARTTIME'])\n",
    "diag_df['collection_interval'] = diag_df['CHARTTIME'] - diag_df['admittime']\n",
    "diag_df['collection_interval'] = diag_df['collection_interval'] / (np.timedelta64(1,'h') * 24)\n",
    "diag_df = diag_df.round(1)"
   ]
  },
  {
   "cell_type": "code",
   "execution_count": 17,
   "metadata": {},
   "outputs": [],
   "source": [
    "# Not taking into account negative collection intervals\n",
    "MicroBiologyDF = diag_df[diag_df['collection_interval']>0].drop(['CHARTTIME','admittime'],axis=1)"
   ]
  },
  {
   "cell_type": "code",
   "execution_count": 18,
   "metadata": {},
   "outputs": [],
   "source": [
    "#Reading admissions table and calculating the number of admissions for each patient\n",
    "ADM_DF = pd.read_csv('ADMISSIONS.csv', delimiter=',')\n",
    "p_adm= ADM_DF['SUBJECT_ID'].value_counts()\n",
    "p_adm_df= p_adm.to_frame().reset_index()\n",
    "p_adm_df = p_adm_df.rename(columns={'index':'SUBJECT_ID','SUBJECT_ID':'previous_admissions'})"
   ]
  }
 ],
 "metadata": {
  "colab": {
   "collapsed_sections": [],
   "name": "JoiningTables.ipynb",
   "provenance": []
  },
  "kernelspec": {
   "display_name": "Anaconda(bigdata)",
   "language": "python",
   "name": "anaconda-bigdata"
  },
  "language_info": {
   "codemirror_mode": {
    "name": "ipython",
    "version": 3
   },
   "file_extension": ".py",
   "mimetype": "text/x-python",
   "name": "python",
   "nbconvert_exporter": "python",
   "pygments_lexer": "ipython3",
   "version": "3.8.6"
  }
 },
 "nbformat": 4,
 "nbformat_minor": 1
}
