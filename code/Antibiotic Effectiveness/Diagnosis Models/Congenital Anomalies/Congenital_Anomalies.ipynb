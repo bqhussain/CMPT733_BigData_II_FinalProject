{
 "cells": [
  {
   "cell_type": "code",
   "execution_count": 1,
   "id": "interesting-sympathy",
   "metadata": {},
   "outputs": [],
   "source": [
    "# Importing necessary libraries\n",
    "import pickle\n",
    "import numpy as np\n",
    "np.random.seed(0)\n",
    "import pandas as pd\n",
    "from pickle import load\n",
    "import matplotlib.pyplot as plt\n",
    "from sklearn.model_selection import RepeatedStratifiedKFold\n",
    "from sklearn.ensemble import RandomForestClassifier\n",
    "from sklearn.linear_model import LogisticRegression\n",
    "from sklearn.ensemble import GradientBoostingClassifier\n",
    "from sklearn.ensemble import AdaBoostClassifier\n",
    "from sklearn.tree import DecisionTreeClassifier\n",
    "from sklearn.neighbors import KNeighborsClassifier\n",
    "from sklearn.model_selection import train_test_split\n",
    "from sklearn.model_selection import cross_val_score\n",
    "from sklearn.model_selection import cross_validate\n",
    "from sklearn.model_selection import cross_val_predict\n",
    "from sklearn.metrics import accuracy_score\n",
    "from sklearn.metrics import precision_score\n",
    "from sklearn.metrics import recall_score\n",
    "from sklearn.metrics import f1_score\n",
    "from sklearn.metrics import plot_confusion_matrix\n",
    "from sklearn.metrics import confusion_matrix\n",
    "from sklearn.metrics import roc_auc_score\n",
    "from sklearn.metrics import roc_curve"
   ]
  },
  {
   "cell_type": "code",
   "execution_count": 2,
   "id": "naval-effort",
   "metadata": {},
   "outputs": [],
   "source": [
    "# reading the diagnosis file and mapping the target\n",
    "dataset = pd.read_csv('CONGENITAL_DIS_DF.csv')\n",
    "dataset['target'] = dataset['target'].map({'R':0,'S':1})"
   ]
  },
  {
   "cell_type": "code",
   "execution_count": 3,
   "id": "political-consistency",
   "metadata": {},
   "outputs": [],
   "source": [
    "# gathering the training data\n",
    "training_data = dataset.drop(['Diagnoses', 'target'], axis=1)\n",
    "y = dataset['target']"
   ]
  },
  {
   "cell_type": "code",
   "execution_count": 4,
   "id": "commercial-citizenship",
   "metadata": {},
   "outputs": [],
   "source": [
    "# shuffling the dataset\n",
    "shuffled_df = dataset.sample(frac=1)\n",
    "X = shuffled_df.drop(['Diagnoses','target'], axis=1)\n",
    "Y = shuffled_df['target']"
   ]
  },
  {
   "cell_type": "code",
   "execution_count": 5,
   "id": "alleged-henry",
   "metadata": {},
   "outputs": [],
   "source": [
    "# performing a 30:70 test-train split\n",
    "X_train, X_test, y_train, y_test = train_test_split(X, Y, test_size=0.3, stratify=Y, random_state=733)"
   ]
  },
  {
   "cell_type": "markdown",
   "id": "faced-honey",
   "metadata": {},
   "source": [
    "Cross Validation"
   ]
  },
  {
   "cell_type": "code",
   "execution_count": 6,
   "id": "measured-walter",
   "metadata": {},
   "outputs": [
    {
     "name": "stdout",
     "output_type": "stream",
     "text": [
      "Model: Gradient Boosting Classifier\n",
      "Accuracy: 0.8605\n",
      "AUC-ROC Score: 0.9062\n",
      "Precision: 0.8906\n",
      "Recall: 0.9152\n",
      "F-1 Score: 0.9027\n",
      "-------------------\n",
      "Model: Random Forest Classifier\n",
      "Accuracy: 0.8446\n",
      "AUC-ROC Score: 0.9084\n",
      "Precision: 0.8634\n",
      "Recall: 0.9270\n",
      "F-1 Score: 0.8940\n",
      "-------------------\n",
      "Model: AdaBoost Classifier\n",
      "Accuracy: 0.8005\n",
      "AUC-ROC Score: 0.8477\n",
      "Precision: 0.8185\n",
      "Recall: 0.9227\n",
      "F-1 Score: 0.8674\n",
      "-------------------\n",
      "Model: Logistic Regression\n",
      "Accuracy: 0.7866\n",
      "AUC-ROC Score: 0.8270\n",
      "Precision: 0.8056\n",
      "Recall: 0.9205\n",
      "F-1 Score: 0.8592\n",
      "-------------------\n",
      "Model: Decision Tree Classifier\n",
      "Accuracy: 0.8143\n",
      "AUC-ROC Score: 0.7784\n",
      "Precision: 0.8710\n",
      "Recall: 0.8657\n",
      "F-1 Score: 0.8683\n",
      "-------------------\n",
      "Model: K-Neighbors Classifier\n",
      "Accuracy: 0.7906\n",
      "AUC-ROC Score: 0.8460\n",
      "Precision: 0.8397\n",
      "Recall: 0.8701\n",
      "F-1 Score: 0.8546\n",
      "-------------------\n"
     ]
    }
   ],
   "source": [
    "# Checking for six different classifying algorithms\n",
    "models = []\n",
    "models.append(('Gradient Boosting Classifier', GradientBoostingClassifier(n_estimators=200, learning_rate=0.3, max_depth=10, random_state=733)))\n",
    "models.append(('Random Forest Classifier', RandomForestClassifier(n_estimators=200, criterion='entropy', class_weight='balanced', random_state=733)))\n",
    "models.append(('AdaBoost Classifier', AdaBoostClassifier(n_estimators=100, random_state=733)))\n",
    "models.append(('Logistic Regression', LogisticRegression(solver='liblinear', multi_class='ovr', random_state=733)))\n",
    "models.append(('Decision Tree Classifier', DecisionTreeClassifier(criterion='entropy', random_state=733)))\n",
    "models.append(('K-Neighbors Classifier', KNeighborsClassifier(n_neighbors=10, metric='euclidean')))\n",
    "\n",
    "# Evaluating each model in turn\n",
    "results = []\n",
    "names = []\n",
    "scoring = ['accuracy', 'precision', 'recall', 'f1', 'roc_auc']\n",
    "\n",
    "for name, model in models:        \n",
    "    kfold = RepeatedStratifiedKFold(n_splits= 10, n_repeats=3, random_state=1)\n",
    "    cv_results = cross_validate(model, training_data, y, cv=kfold, scoring=scoring) \n",
    "    results.append(cv_results)\n",
    "    names.append(name)\n",
    "    \n",
    "    # Checking the metric scores and printing them for each model\n",
    "    print(f'Model: {name}')\n",
    "    acc = results[0]['test_accuracy'].mean()\n",
    "    prc = results[0]['test_precision'].mean()\n",
    "    rc = results[0]['test_recall'].mean()\n",
    "    f_1 = results[0]['test_f1'].mean()\n",
    "    rocauc = results[0]['test_roc_auc'].mean()\n",
    "    print(f'Accuracy: {acc:.4f}')\n",
    "    print(f'AUC-ROC Score: {rocauc:.4f}')\n",
    "    print(f'Precision: {prc:.4f}')\n",
    "    print(f'Recall: {rc:.4f}')\n",
    "    print(f'F-1 Score: {f_1:.4f}')\n",
    "    print('-------------------')\n",
    "    results.clear()"
   ]
  },
  {
   "cell_type": "markdown",
   "id": "processed-guarantee",
   "metadata": {},
   "source": [
    "Finalized Model, Evaluation Metrics, and Confusion Matrix"
   ]
  },
  {
   "cell_type": "code",
   "execution_count": 7,
   "id": "structured-military",
   "metadata": {},
   "outputs": [],
   "source": [
    "def evaluate_predictions(y_true, y_preds, probs):\n",
    "    accuracy = accuracy_score(y_true, y_preds)\n",
    "    precision = precision_score(y_true, y_preds)\n",
    "    recall = recall_score(y_true, y_preds)\n",
    "    f1 = f1_score(y_true, y_preds)\n",
    "    rocauc =  roc_auc_score(y_true, probs[:,1])\n",
    "    metric_dict = {'accuracy': accuracy,\n",
    "                   'precision': precision,\n",
    "                   'recall' : recall,\n",
    "                   'f1': f1,\n",
    "                   'rucauc': rocauc}\n",
    "    \n",
    "    print(f'Accuracy: {accuracy * 100:.2f}%')\n",
    "    print(f'AUC-ROC Score: {rocauc:.4f}')\n",
    "    print(f'Precision: {precision:.4f}')\n",
    "    print(f'Recall: {recall:.4f}')\n",
    "    print(f'F-1 Score: {f1:.4f}')\n",
    "    return metric_dict"
   ]
  },
  {
   "cell_type": "code",
   "execution_count": 8,
   "id": "activated-theorem",
   "metadata": {},
   "outputs": [
    {
     "name": "stdout",
     "output_type": "stream",
     "text": [
      "Accuracy: 84.48%\n",
      "AUC-ROC Score: 0.8976\n",
      "Precision: 0.8749\n",
      "Recall: 0.9109\n",
      "F-1 Score: 0.8925\n"
     ]
    },
    {
     "data": {
      "image/png": "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\n",
      "text/plain": [
       "<Figure size 504x504 with 2 Axes>"
      ]
     },
     "metadata": {
      "needs_background": "light"
     },
     "output_type": "display_data"
    }
   ],
   "source": [
    "final_model = GradientBoostingClassifier(n_estimators=200, learning_rate=0.3, max_depth=10, random_state=733)\n",
    "final_model = final_model.fit(X_train, y_train)\n",
    "gby_preds = final_model.predict(X_test)\n",
    "model_probs = final_model.predict_proba(X_test)\n",
    "baseline_metrics_for_gb = evaluate_predictions(y_test, gby_preds, model_probs)\n",
    "fig, ax = plt.subplots(figsize=(7, 7))\n",
    "plot_confusion_matrix(final_model, X_test, y_test, display_labels=['R', 'S'], cmap='Blues', ax=ax)\n",
    "plt.show()"
   ]
  },
  {
   "cell_type": "code",
   "execution_count": 9,
   "id": "unavailable-roman",
   "metadata": {},
   "outputs": [],
   "source": [
    "# Generating pickle files\n",
    "filename = 'Congenital_Anomalies.pkl'\n",
    "pickle.dump(final_model, open(filename, 'wb'))"
   ]
  },
  {
   "cell_type": "markdown",
   "id": "lesser-transcript",
   "metadata": {},
   "source": [
    "ROC Curve"
   ]
  },
  {
   "cell_type": "code",
   "execution_count": 10,
   "id": "nutritional-science",
   "metadata": {
    "scrolled": false
   },
   "outputs": [
    {
     "name": "stdout",
     "output_type": "stream",
     "text": [
      "Gradient Boost: AUC-ROC Score = 0.898\n"
     ]
    },
    {
     "data": {
      "image/png": "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\n",
      "text/plain": [
       "<Figure size 504x504 with 1 Axes>"
      ]
     },
     "metadata": {
      "needs_background": "light"
     },
     "output_type": "display_data"
    }
   ],
   "source": [
    "# Keeping probabilities for the positive outcome and calculating scores\n",
    "ns_probs = [0 for _ in range(len(y_test))]\n",
    "model_probs = model_probs[:,1]\n",
    "model_auc = baseline_metrics_for_gb['rucauc']\n",
    "print('Gradient Boost: AUC-ROC Score = %.3f' % (model_auc))\n",
    "\n",
    "# Calculating ROC curve\n",
    "ns_fpr, ns_tpr, _ = roc_curve(y_test, ns_probs) \n",
    "model_fpr, model_tpr, _ = roc_curve(y_test, model_probs)\n",
    "\n",
    "# Plotting the ROC Curve for the model\n",
    "plt.figure(figsize=(7,7))\n",
    "plt.plot(ns_fpr, ns_tpr, linestyle='--', label=f'No Skill', color='#4169e1')\n",
    "plt.plot(model_fpr, model_tpr, marker='.', label=f'Gradient Boost: {round(model_auc,2)}', color='#191970')\n",
    "plt.xlabel('False Positive Rate')\n",
    "plt.ylabel('True Positive Rate')\n",
    "plt.legend()\n",
    "plt.show()"
   ]
  },
  {
   "cell_type": "code",
   "execution_count": null,
   "id": "adapted-breach",
   "metadata": {},
   "outputs": [],
   "source": []
  },
  {
   "cell_type": "code",
   "execution_count": 11,
   "id": "increasing-offer",
   "metadata": {},
   "outputs": [
    {
     "ename": "SyntaxError",
     "evalue": "invalid syntax (<ipython-input-11-2eeedf1e55cd>, line 44)",
     "output_type": "error",
     "traceback": [
      "\u001b[0;36m  File \u001b[0;32m\"<ipython-input-11-2eeedf1e55cd>\"\u001b[0;36m, line \u001b[0;32m44\u001b[0m\n\u001b[0;31m    Cross Validation\u001b[0m\n\u001b[0m          ^\u001b[0m\n\u001b[0;31mSyntaxError\u001b[0m\u001b[0;31m:\u001b[0m invalid syntax\n"
     ]
    }
   ],
   
