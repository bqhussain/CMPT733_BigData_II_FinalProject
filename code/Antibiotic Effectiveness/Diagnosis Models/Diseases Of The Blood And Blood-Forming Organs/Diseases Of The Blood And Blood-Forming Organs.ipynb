{
 "cells": [
  {
   "cell_type": "code",
   "execution_count": 1,
   "id": "interesting-sympathy",
   "metadata": {},
   "outputs": [],
   "source": [
    "# Importing necessary libraries\n",
    "import pickle\n",
    "import numpy as np\n",
    "np.random.seed(0)\n",
    "import pandas as pd\n",
    "from pickle import load\n",
    "import matplotlib.pyplot as plt\n",
    "from sklearn.model_selection import RepeatedStratifiedKFold\n",
    "from sklearn.ensemble import RandomForestClassifier\n",
    "from sklearn.linear_model import LogisticRegression\n",
    "from sklearn.ensemble import GradientBoostingClassifier\n",
    "from sklearn.ensemble import AdaBoostClassifier\n",
    "from sklearn.tree import DecisionTreeClassifier\n",
    "from sklearn.neighbors import KNeighborsClassifier\n",
    "from sklearn.model_selection import train_test_split\n",
    "from sklearn.model_selection import cross_val_score\n",
    "from sklearn.model_selection import cross_validate\n",
    "from sklearn.model_selection import cross_val_predict\n",
    "from sklearn.metrics import accuracy_score\n",
    "from sklearn.metrics import precision_score\n",
    "from sklearn.metrics import recall_score\n",
    "from sklearn.metrics import f1_score\n",
    "from sklearn.metrics import plot_confusion_matrix\n",
    "from sklearn.metrics import confusion_matrix\n",
    "from sklearn.metrics import roc_auc_score\n",
    "from sklearn.metrics import roc_curve"
   ]
  },
  {
   "cell_type": "code",
   "execution_count": 2,
   "id": "naval-effort",
   "metadata": {},
   "outputs": [],
   "source": [
    "# reading the diagnosis file and mapping the target\n",
    "dataset = pd.read_csv('Diseases_Of_The Blood_And_Blood_Forming_Organs.csv')\n",
    "dataset['target'] = dataset['target'].map({'R':0,'S':1})"
   ]
  },
  {
   "cell_type": "code",
   "execution_count": 3,
   "id": "political-consistency",
   "metadata": {},
   "outputs": [],
   "source": [
    "# gathering the training data\n",
    "training_data = dataset.drop(['Diagnoses', 'target'], axis=1)\n",
    "y = dataset['target']"
   ]
  },
  {
   "cell_type": "code",
   "execution_count": 4,
   "id": "commercial-citizenship",
   "metadata": {},
   "outputs": [],
   "source": [
    "# shuffling the dataset\n",
    "shuffled_df = dataset.sample(frac=1)\n",
    "X = shuffled_df.drop(['Diagnoses','target'], axis=1)\n",
    "Y = shuffled_df['target']"
   ]
  },
  {
   "cell_type": "code",
   "execution_count": 5,
   "id": "alleged-henry",
   "metadata": {},
   "outputs": [],
   "source": [
    "# performing a 30:70 test-train split\n",
    "X_train, X_test, y_train, y_test = train_test_split(X, Y, test_size=0.3, stratify=Y, random_state=733)"
   ]
  },
  {
   "cell_type": "markdown",
   "id": "faced-honey",
   "metadata": {},
   "source": [
    "Cross Validation"
   ]
  },
  {
   "cell_type": "code",
   "execution_count": 6,
   "id": "measured-walter",
   "metadata": {},
   "outputs": [
    {
     "name": "stdout",
     "output_type": "stream",
     "text": [
      "Model: Gradient Boosting Classifier\n",
      "Accuracy: 0.8444\n",
      "Precision: 0.8701\n",
      "Recall: 0.8970\n",
      "F-1 Score: 0.8833\n",
      "AUC-ROC Score: 0.9147\n",
      "-------------------\n",
      "Model: Random Forest Classifier\n",
      "Accuracy: 0.8156\n",
      "Precision: 0.8416\n",
      "Recall: 0.8861\n",
      "F-1 Score: 0.8633\n",
      "AUC-ROC Score: 0.8832\n",
      "-------------------\n",
      "Model: AdaBoost Classifier\n",
      "Accuracy: 0.7611\n",
      "Precision: 0.7842\n",
      "Recall: 0.8779\n",
      "F-1 Score: 0.8284\n",
      "AUC-ROC Score: 0.8194\n",
      "-------------------\n",
      "Model: Logistic Regression\n",
      "Accuracy: 0.7546\n",
      "Precision: 0.7810\n",
      "Recall: 0.8706\n",
      "F-1 Score: 0.8234\n",
      "AUC-ROC Score: 0.8176\n",
      "-------------------\n",
      "Model: Decision Tree Classifier\n",
      "Accuracy: 0.7780\n",
      "Precision: 0.8344\n",
      "Recall: 0.8260\n",
      "F-1 Score: 0.8302\n",
      "AUC-ROC Score: 0.7576\n",
      "-------------------\n",
      "Model: K-Neighbors Classifier\n",
      "Accuracy: 0.7774\n",
      "Precision: 0.8267\n",
      "Recall: 0.8365\n",
      "F-1 Score: 0.8316\n",
      "AUC-ROC Score: 0.8427\n",
      "-------------------\n"
     ]
    }
   ],
   "source": [
    "# Checking for six different classifying algorithms\n",
    "models = []\n",
    "models.append(('Gradient Boosting Classifier', GradientBoostingClassifier(n_estimators=200, learning_rate=0.3, max_depth=10, random_state=733)))\n",
    "models.append(('Random Forest Classifier', RandomForestClassifier(n_estimators=200, criterion='entropy', class_weight='balanced', random_state=733)))\n",
    "models.append(('AdaBoost Classifier', AdaBoostClassifier(n_estimators=100, random_state=733)))\n",
    "models.append(('Logistic Regression', LogisticRegression(solver='liblinear', multi_class='ovr', random_state=733)))\n",
    "models.append(('Decision Tree Classifier', DecisionTreeClassifier(criterion='entropy', random_state=733)))\n",
    "models.append(('K-Neighbors Classifier', KNeighborsClassifier(n_neighbors=10, metric='euclidean')))\n",
    "\n",
    "# Evaluating each model in turn\n",
    "results = []\n",
    "names = []\n",
    "scoring = ['accuracy', 'precision', 'recall', 'f1', 'roc_auc']\n",
    "\n",
    "for name, model in models:        \n",
    "    kfold = RepeatedStratifiedKFold(n_splits= 10, n_repeats=3, random_state=1)\n",
    "    cv_results = cross_validate(model, training_data, y, cv=kfold, scoring=scoring) \n",
    "    results.append(cv_results)\n",
    "    names.append(name)\n",
    "    \n",
    "    # Checking the metric scores and printing them for each model\n",
    "    print(f'Model: {name}')\n",
    "    acc = results[0]['test_accuracy'].mean()\n",
    "    prc = results[0]['test_precision'].mean()\n",
    "    rc = results[0]['test_recall'].mean()\n",
    "    f_1 = results[0]['test_f1'].mean()\n",
    "    rocauc = results[0]['test_roc_auc'].mean()\n",
    "    print(f'Accuracy: {acc:.4f}')\n",
    "    print(f'Precision: {prc:.4f}')\n",
    "    print(f'Recall: {rc:.4f}')\n",
    "    print(f'F-1 Score: {f_1:.4f}')\n",
    "    print(f'AUC-ROC Score: {rocauc:.4f}')\n",
    "    print('-------------------')\n",
    "    results.clear()\n"
   ]
  },
  {
   "cell_type": "markdown",
   "id": "processed-guarantee",
   "metadata": {},
   "source": [
    "Finalized Model, Evaluation Metrics, and Confusion Matrix"
   ]
  },
  {
   "cell_type": "code",
   "execution_count": 8,
   "id": "structured-military",
   "metadata": {},
   "outputs": [],
   "source": [
    "def evaluate_predictions(y_true, y_preds, probs):\n",
    "    accuracy = accuracy_score(y_true, y_preds)\n",
    "    precision = precision_score(y_true, y_preds)\n",
    "    recall = recall_score(y_true, y_preds)\n",
    "    f1 = f1_score(y_true, y_preds)\n",
    "    rocauc =  roc_auc_score(y_true, probs[:,1])\n",
    "    metric_dict = {'accuracy': accuracy,\n",
    "                   'precision': precision,\n",
    "                   'recall' : recall,\n",
    "                   'f1': f1,\n",
    "                   'rucauc': rocauc}\n",
    "    \n",
    "    print(f'Accuracy: {accuracy * 100:.2f}%')\n",
    "    print(f'Precision: {precision:.4f}')\n",
    "    print(f'Recall: {recall:.4f}')\n",
    "    print(f'F-1 Score: {f1:.4f}')\n",
    "    print(f'AUC-ROC Score: {rocauc:.4f}')\n",
    "    return metric_dict"
   ]
  },
  {
   "cell_type": "code",
   "execution_count": 9,
   "id": "activated-theorem",
   "metadata": {},
   "outputs": [
    {
     "name": "stdout",
     "output_type": "stream",
     "text": [
      "Accuracy: 83.65%\n",
      "Precision: 0.8649\n",
      "Recall: 0.8901\n",
      "F-1 Score: 0.8773\n",
      "AUC-ROC Score: 0.9082\n"
     ]
    },
    {
     "data": {
      "image/png": "[encoded data removed]",
      "text/plain": [
       "<Figure size 504x504 with 2 Axes>"
      ]
     },
     "metadata": {
      "needs_background": "light"
     },
     "output_type": "display_data"
    }
   ],
   "source": [
    "final_model = GradientBoostingClassifier(n_estimators=200, learning_rate=0.3, max_depth=10, random_state=733)\n",
    "final_model = final_model.fit(X_train, y_train)\n",
    "gby_preds = final_model.predict(X_test)\n",
    "model_probs = final_model.predict_proba(X_test)\n",
    "baseline_metrics_for_gb = evaluate_predictions(y_test, gby_preds, model_probs)\n",
    "fig, ax = plt.subplots(figsize=(7, 7))\n",
    "plot_confusion_matrix(final_model, X_test, y_test, display_labels=['R', 'S'], cmap='Blues', ax=ax)\n",
    "plt.show()"
   ]
  },
  {
   "cell_type": "code",
   "execution_count": 10,
   "id": "unavailable-roman",
   "metadata": {},
   "outputs": [],
   "source": [
    "# Generating pickle files\n",
    "filename = 'Diseases_Of_The Blood_And_Blood_Forming_Organs.pkl'\n",
    "pickle.dump(final_model, open(filename, 'wb'))"
   ]
  },
  {
   "cell_type": "markdown",
   "id": "lesser-transcript",
   "metadata": {},
   "source": [
    "ROC Curve"
   ]
  },
  {
   "cell_type": "code",
   "execution_count": 11,
   "id": "nutritional-science",
   "metadata": {},
   "outputs": [
    {
     "name": "stdout",
     "output_type": "stream",
     "text": [
      "Gradient Boost: AUC-ROC Score = 0.908\n"
     ]
    },
    {
     "data": {
      "image/png": "[encoded data removed]",
      "text/plain": [
       "<Figure size 504x504 with 1 Axes>"
      ]
     },
     "metadata": {
      "needs_background": "light"
     },
     "output_type": "display_data"
    }
   ],
   "source": [
    "# Keeping probabilities for the positive outcome and calculating scores\n",
    "ns_probs = [0 for _ in range(len(y_test))]\n",
    "model_probs = model_probs[:,1]\n",
    "model_auc = baseline_metrics_for_gb['rucauc']\n",
    "print('Gradient Boost: AUC-ROC Score = %.3f' % (model_auc))\n",
    "\n",
    "# Calculating ROC curve\n",
    "ns_fpr, ns_tpr, _ = roc_curve(y_test, ns_probs) \n",
    "model_fpr, model_tpr, _ = roc_curve(y_test, model_probs)\n",
    "\n",
    "# Plotting the ROC Curve for the model\n",
    "plt.figure(figsize=(7,7))\n",
    "plt.plot(ns_fpr, ns_tpr, linestyle='--', label=f'No Skill', color='#4169e1')\n",
    "plt.plot(model_fpr, model_tpr, marker='.', label=f'Gradient Boost: {round(model_auc,2)}', color='#191970')\n",
    "plt.xlabel('False Positive Rate')\n",
    "plt.ylabel('True Positive Rate')\n",
    "plt.legend()\n",
    "plt.show()"
   ]
  },
  {
   "cell_type": "code",
   "execution_count": null,
   "id": "protected-prairie",
   "metadata": {},
   "outputs": [],
   "source": []
  }
 ],
 "metadata": {
  "kernelspec": {
   "display_name": "Anaconda(bigdata)",
   "language": "python",
   "name": "anaconda-bigdata"
  },
  "language_info": {
   "codemirror_mode": {
    "name": "ipython",
    "version": 3
   },
   "file_extension": ".py",
   "mimetype": "text/x-python",
   "name": "python",
   "nbconvert_exporter": "python",
   "pygments_lexer": "ipython3",
   "version": "3.8.6"
  }
 },
 "nbformat": 4,
 "nbformat_minor": 5
}
