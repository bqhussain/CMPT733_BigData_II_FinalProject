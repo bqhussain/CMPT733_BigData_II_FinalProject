{
 "cells": [
  {
   "cell_type": "code",
   "execution_count": 1,
   "id": "excessive-silly",
   "metadata": {},
   "outputs": [],
   "source": [
    "# Importing necessary libraries\n",
    "import pickle\n",
    "import numpy as np\n",
    "np.random.seed(0)\n",
    "import pandas as pd\n",
    "from pickle import load\n",
    "import matplotlib.pyplot as plt\n",
    "from sklearn.model_selection import RepeatedStratifiedKFold\n",
    "from sklearn.ensemble import RandomForestClassifier\n",
    "from sklearn.linear_model import LogisticRegression\n",
    "from sklearn.ensemble import GradientBoostingClassifier\n",
    "from sklearn.ensemble import AdaBoostClassifier\n",
    "from sklearn.tree import DecisionTreeClassifier\n",
    "from sklearn.neighbors import KNeighborsClassifier\n",
    "from sklearn.model_selection import train_test_split\n",
    "from sklearn.model_selection import cross_val_score\n",
    "from sklearn.model_selection import cross_validate\n",
    "from sklearn.model_selection import cross_val_predict\n",
    "from sklearn.metrics import accuracy_score\n",
    "from sklearn.metrics import precision_score\n",
    "from sklearn.metrics import recall_score\n",
    "from sklearn.metrics import f1_score\n",
    "from sklearn.metrics import plot_confusion_matrix\n",
    "from sklearn.metrics import confusion_matrix\n",
    "from sklearn.metrics import roc_auc_score\n",
    "from sklearn.metrics import roc_curve"
   ]
  },
  {
   "cell_type": "code",
   "execution_count": 2,
   "id": "legendary-wrestling",
   "metadata": {},
   "outputs": [],
   "source": [
    "# reading the diagnosis file and mapping the target\n",
    "dataset = pd.read_csv('Mental_Disorders.csv')\n",
    "dataset['target'] = dataset['target'].map({'R':0,'S':1})"
   ]
  },
  {
   "cell_type": "code",
   "execution_count": 3,
   "id": "suburban-fellowship",
   "metadata": {},
   "outputs": [],
   "source": [
    "# gathering the training data\n",
    "training_data = dataset.drop(['Diagnoses', 'target'], axis=1)\n",
    "y = dataset['target']"
   ]
  },
  {
   "cell_type": "code",
   "execution_count": 4,
   "id": "demanding-variation",
   "metadata": {},
   "outputs": [],
   "source": [
    "# shuffling the dataset\n",
    "shuffled_df = dataset.sample(frac=1)\n",
    "X = shuffled_df.drop(['Diagnoses','target'], axis=1)\n",
    "Y = shuffled_df['target']"
   ]
  },
  {
   "cell_type": "code",
   "execution_count": 5,
   "id": "completed-finance",
   "metadata": {},
   "outputs": [],
   "source": [
    "# performing a 30:70 test-train split\n",
    "X_train, X_test, y_train, y_test = train_test_split(X, Y, test_size=0.3, stratify=Y, random_state=733)"
   ]
  },
  {
   "cell_type": "markdown",
   "id": "spatial-latter",
   "metadata": {},
   "source": [
    "Cross Validation"
   ]
  },
  {
   "cell_type": "code",
   "execution_count": 6,
   "id": "progressive-sweden",
   "metadata": {},
   "outputs": [
    {
     "name": "stdout",
     "output_type": "stream",
     "text": [
      "Model: Gradient Boosting Classifier\n",
      "Accuracy: 0.8583\n",
      "Precision: 0.8792\n",
      "Recall: 0.9172\n",
      "F-1 Score: 0.8975\n",
      "AUC-ROC Score: 0.9025\n",
      "-------------------\n",
      "Model: Random Forest Classifier\n",
      "Accuracy: 0.8839\n",
      "Precision: 0.8923\n",
      "Recall: 0.9429\n",
      "F-1 Score: 0.9165\n",
      "AUC-ROC Score: 0.9209\n",
      "-------------------\n",
      "Model: AdaBoost Classifier\n",
      "Accuracy: 0.8433\n",
      "Precision: 0.8688\n",
      "Recall: 0.9061\n",
      "F-1 Score: 0.8867\n",
      "AUC-ROC Score: 0.8938\n",
      "-------------------\n",
      "Model: Logistic Regression\n",
      "Accuracy: 0.8412\n",
      "Precision: 0.8668\n",
      "Recall: 0.9056\n",
      "F-1 Score: 0.8853\n",
      "AUC-ROC Score: 0.8861\n",
      "-------------------\n",
      "Model: Decision Tree Classifier\n",
      "Accuracy: 0.8395\n",
      "Precision: 0.8857\n",
      "Recall: 0.8773\n",
      "F-1 Score: 0.8809\n",
      "AUC-ROC Score: 0.8195\n",
      "-------------------\n",
      "Model: K-Neighbors Classifier\n",
      "Accuracy: 0.8395\n",
      "Precision: 0.8637\n",
      "Recall: 0.9071\n",
      "F-1 Score: 0.8844\n",
      "AUC-ROC Score: 0.8861\n",
      "-------------------\n"
     ]
    }
   ],
   "source": [
    "# Checking for six different classifying algorithms\n",
    "models = []\n",
    "models.append(('Gradient Boosting Classifier', GradientBoostingClassifier(n_estimators=100, learning_rate=1.0, max_depth=1, random_state=733)))\n",
    "models.append(('Random Forest Classifier', RandomForestClassifier(n_estimators=200, criterion='entropy', class_weight='balanced', random_state=733)))\n",
    "models.append(('AdaBoost Classifier', AdaBoostClassifier(n_estimators=100, random_state=733)))\n",
    "models.append(('Logistic Regression', LogisticRegression(solver='liblinear', multi_class='ovr', random_state=733)))\n",
    "models.append(('Decision Tree Classifier', DecisionTreeClassifier(criterion='entropy', random_state=733)))\n",
    "models.append(('K-Neighbors Classifier', KNeighborsClassifier(n_neighbors=5, metric='euclidean', p = 2)))\n",
    "\n",
    "# Evaluating each model in turn\n",
    "results = []\n",
    "names = []\n",
    "scoring = ['accuracy', 'precision', 'recall', 'f1', 'roc_auc']\n",
    "\n",
    "for name, model in models:        \n",
    "    kfold = RepeatedStratifiedKFold(n_splits= 10, n_repeats=3, random_state=1)\n",
    "    cv_results = cross_validate(model, training_data, y, cv=kfold, scoring=scoring) \n",
    "    results.append(cv_results)\n",
    "    names.append(name)\n",
    "    \n",
    "    # Checking the metric scores and printing them for each model\n",
    "    print(f'Model: {name}')\n",
    "    acc = results[0]['test_accuracy'].mean()\n",
    "    prc = results[0]['test_precision'].mean()\n",
    "    rc = results[0]['test_recall'].mean()\n",
    "    f_1 = results[0]['test_f1'].mean()\n",
    "    rocauc = results[0]['test_roc_auc'].mean()\n",
    "    print(f'Accuracy: {acc:.4f}')\n",
    "    print(f'Precision: {prc:.4f}')\n",
    "    print(f'Recall: {rc:.4f}')\n",
    "    print(f'F-1 Score: {f_1:.4f}')\n",
    "    print(f'AUC-ROC Score: {rocauc:.4f}')\n",
    "    print('-------------------')\n",
    "    results.clear()"
   ]
  },
  {
   "cell_type": "markdown",
   "id": "mexican-mexico",
   "metadata": {},
   "source": [
    "Finalized Model, Evaluation Metrics, and Confusion Matrix"
   ]
  },
  {
   "cell_type": "code",
   "execution_count": 7,
   "id": "virtual-filing",
   "metadata": {},
   "outputs": [],
   "source": [
    "def evaluate_predictions(y_true, y_preds, probs):\n",
    "    accuracy = accuracy_score(y_true, y_preds)\n",
    "    precision = precision_score(y_true, y_preds)\n",
    "    recall = recall_score(y_true, y_preds)\n",
    "    f1 = f1_score(y_true, y_preds)\n",
    "    rocauc =  roc_auc_score(y_true, probs[:,1])\n",
    "    metric_dict = {'accuracy': accuracy,\n",
    "                   'precision': precision,\n",
    "                   'recall' : recall,\n",
    "                   'f1': f1,\n",
    "                   'rucauc': rocauc}\n",
    "    \n",
    "    print(f'Accuracy: {accuracy * 100:.2f}%')\n",
    "    print(f'Precision: {precision:.4f}')\n",
    "    print(f'Recall: {recall:.4f}')\n",
    "    print(f'F-1 Score: {f1:.4f}')\n",
    "    print(f'AUC-ROC Score: {rocauc:.4f}')\n",
    "    return metric_dict"
   ]
  },
  {
   "cell_type": "code",
   "execution_count": 8,
   "id": "satisfactory-arrow",
   "metadata": {},
   "outputs": [
    {
     "name": "stdout",
     "output_type": "stream",
     "text": [
      "Accuracy: 87.03%\n",
      "Precision: 0.8704\n",
      "Recall: 0.9495\n",
      "F-1 Score: 0.9082\n",
      "AUC-ROC Score: 0.9262\n"
     ]
    },
    {
     "data": {
      "image/png": "[encoded data removed]",
      "text/plain": [
       "<Figure size 504x504 with 2 Axes>"
      ]
     },
     "metadata": {
      "needs_background": "light"
     },
     "output_type": "display_data"
    }
   ],
   "source": [
    "final_model = RandomForestClassifier(n_estimators=200, criterion='entropy', class_weight='balanced', random_state=733)\n",
    "final_model = final_model.fit(X_train, y_train)\n",
    "gby_preds = final_model.predict(X_test)\n",
    "model_probs = final_model.predict_proba(X_test)\n",
    "baseline_metrics_for_gb = evaluate_predictions(y_test, gby_preds, model_probs)\n",
    "fig, ax = plt.subplots(figsize=(7, 7))\n",
    "plot_confusion_matrix(final_model, X_test, y_test, display_labels=['R', 'S'], cmap='Blues', ax=ax)\n",
    "plt.show()"
   ]
  },
  {
   "cell_type": "code",
   "execution_count": 9,
   "id": "placed-spirituality",
   "metadata": {},
   "outputs": [],
   "source": [
    "# Generating pickle files\n",
    "filename = 'Mental_Disorders.pkl'\n",
    "pickle.dump(final_model, open(filename, 'wb'))"
   ]
  },
  {
   "cell_type": "markdown",
   "id": "editorial-nepal",
   "metadata": {},
   "source": [
    "ROC Curve"
   ]
  },
  {
   "cell_type": "code",
   "execution_count": 10,
   "id": "controlling-microwave",
   "metadata": {},
   "outputs": [
    {
     "name": "stdout",
     "output_type": "stream",
     "text": [
      "Gradient Boost: AUC-ROC Score = 0.926\n"
     ]
    },
    {
     "data": {
      "image/png": "[encoded data removed]",
      "text/plain": [
       "<Figure size 504x504 with 1 Axes>"
      ]
     },
     "metadata": {
      "needs_background": "light"
     },
     "output_type": "display_data"
    }
   ],
   "source": [
    "# Keeping probabilities for the positive outcome and calculating scores\n",
    "ns_probs = [0 for _ in range(len(y_test))]\n",
    "model_probs = model_probs[:,1]\n",
    "model_auc = baseline_metrics_for_gb['rucauc']\n",
    "print('Gradient Boost: AUC-ROC Score = %.3f' % (model_auc))\n",
    "\n",
    "# Calculating ROC curve\n",
    "ns_fpr, ns_tpr, _ = roc_curve(y_test, ns_probs) \n",
    "model_fpr, model_tpr, _ = roc_curve(y_test, model_probs)\n",
    "\n",
    "# Plotting the ROC Curve for the model\n",
    "plt.figure(figsize=(7,7))\n",
    "plt.plot(ns_fpr, ns_tpr, linestyle='--', label=f'No Skill', color='#4169e1')\n",
    "plt.plot(model_fpr, model_tpr, marker='.', label=f'Gradient Boost: {round(model_auc,2)}', color='#191970')\n",
    "plt.xlabel('False Positive Rate')\n",
    "plt.ylabel('True Positive Rate')\n",
    "plt.legend()\n",
    "plt.show()"
   ]
  }
 ],
 "metadata": {
  "kernelspec": {
   "display_name": "cmpt733",
   "language": "python",
   "name": "cmpt733"
  },
  "language_info": {
   "codemirror_mode": {
    "name": "ipython",
    "version": 3
   },
   "file_extension": ".py",
   "mimetype": "text/x-python",
   "name": "python",
   "nbconvert_exporter": "python",
   "pygments_lexer": "ipython3",
   "version": "3.8.5"
  }
 },
 "nbformat": 4,
 "nbformat_minor": 5
}
